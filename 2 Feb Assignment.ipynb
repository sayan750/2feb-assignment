{
 "cells": [
  {
   "cell_type": "markdown",
   "id": "76801350",
   "metadata": {},
   "source": [
    "#### Q1. The characteristics of the tuples are:\n",
    "\n",
    "###### Tuples are ordered collections of elements, and each element can be of any data type. \n",
    "###### Tuples are defined using parentheses (), and each element is separated by a comma. \n",
    "###### Tuples are immutable, meaning their elements cannot be modified once they are created. \n",
    "###### However, new tuples can be created by combining existing tuples. \n",
    "###### Tuples can also be used as keys in dictionaries because of their immutability.\n",
    "\n",
    "#### Yes, tuples are immutable."
   ]
  },
  {
   "cell_type": "markdown",
   "id": "5b9af081",
   "metadata": {},
   "source": [
    "#### Q2. There are two tuples method in python. These are index and count.\n",
    "\n",
    "##### Index: In Python, I can use the index operator [] to access elements of a tuple by their position (index)."
   ]
  },
  {
   "cell_type": "code",
   "execution_count": 8,
   "id": "22be64f2",
   "metadata": {},
   "outputs": [
    {
     "name": "stdout",
     "output_type": "stream",
     "text": [
      "apple\n"
     ]
    }
   ],
   "source": [
    "my_tuple = (\"apple\", \"banana\", \"cherry\")\n",
    "first_element = my_tuple[0] \n",
    "print(first_element)"
   ]
  },
  {
   "cell_type": "markdown",
   "id": "4b54a1d2",
   "metadata": {},
   "source": [
    "##### Count: To count the occurrences of an element in a tuple in Python, I can use the count() method."
   ]
  },
  {
   "cell_type": "code",
   "execution_count": 9,
   "id": "ad4c196d",
   "metadata": {},
   "outputs": [
    {
     "name": "stdout",
     "output_type": "stream",
     "text": [
      "3\n"
     ]
    }
   ],
   "source": [
    "my_tuple = (1, 2, 3, 2, 4, 2)\n",
    "count_of_NUM = my_tuple.count(2)\n",
    "print(count_of_NUM)"
   ]
  },
  {
   "cell_type": "markdown",
   "id": "f17300cc",
   "metadata": {},
   "source": [
    "##### The reason why tuples have only two in-built methods as compared to lists is that tuples are designed to be immutable, which means once a tuple is created, it cannot be modified. Therefore, there is no need for methods that can modify the tuple."
   ]
  },
  {
   "cell_type": "markdown",
   "id": "eb8549c0",
   "metadata": {},
   "source": [
    "#### Q3. There are two collection datatypes in Python that do not allow duplicate items. These are Set & Dictionary."
   ]
  },
  {
   "cell_type": "code",
   "execution_count": 11,
   "id": "2f8539e5",
   "metadata": {},
   "outputs": [
    {
     "name": "stdout",
     "output_type": "stream",
     "text": [
      "{1, 2, 3, 4}\n"
     ]
    }
   ],
   "source": [
    "List = [1, 1, 1, 2, 1, 3, 1, 4, 2, 1, 2, 2, 2, 3, 2, 4, 3, 1, 3, 2, 3, 3, 3, 4, 4, 1, 4, 2, 4, 3, 4, 4]\n",
    "S = set(List)\n",
    "print(S)"
   ]
  },
  {
   "cell_type": "markdown",
   "id": "90caf297",
   "metadata": {},
   "source": [
    "#### Q4. The difference between union() and update() for a set:\n",
    "\n",
    "#### The union() method is used to join two sets together and return a new set that contains all the elements from both sets, without any duplicates. It does not modify the original sets.\n",
    "#### On the other hand, the update() method adds all the elements from another set (or any iterable) to an existing set. It modifies the original set in place and does not return a new set."
   ]
  },
  {
   "cell_type": "code",
   "execution_count": 15,
   "id": "8e3bb2df",
   "metadata": {},
   "outputs": [
    {
     "name": "stdout",
     "output_type": "stream",
     "text": [
      "{1, 2, 3, 4, 5, 6}\n"
     ]
    }
   ],
   "source": [
    "## Using Union method\n",
    "\n",
    "set1 = {1, 2, 3}\n",
    "set2 = {3, 4, 5, 6, 5}\n",
    "new_set = set1.union(set2)\n",
    "print(new_set)"
   ]
  },
  {
   "cell_type": "code",
   "execution_count": 18,
   "id": "fb713945",
   "metadata": {},
   "outputs": [
    {
     "name": "stdout",
     "output_type": "stream",
     "text": [
      "{1, 2, 3, 4, 5, 6, 7}\n"
     ]
    }
   ],
   "source": [
    "## Using Update method\n",
    "\n",
    "set1 = {1, 2, 3, 7}\n",
    "set2 = {3, 4, 5, 6, 7, 6}\n",
    "set1.update(set2)\n",
    "print(set1)"
   ]
  },
  {
   "cell_type": "markdown",
   "id": "e2366642",
   "metadata": {},
   "source": [
    "#### Q5. A dictionary is a collection of key-value pairs, also known as an associative array or a hash map. It is an unordered and mutable data type, which means you can add, delete, or modify items in the dictionary after it has been created."
   ]
  },
  {
   "cell_type": "code",
   "execution_count": 23,
   "id": "743f09e6",
   "metadata": {},
   "outputs": [
    {
     "name": "stdout",
     "output_type": "stream",
     "text": [
      "{'name': 'John', 'age': 30, 'city': 'New York'}\n"
     ]
    }
   ],
   "source": [
    "S = {\"name\": \"John\", \"age\": 30, \"city\": \"New York\"}\n",
    "print(S)\n",
    "\n",
    "## Dictionaries are typically unordered, meaning the items in a dictionary do not have a specific order or sequence."
   ]
  },
  {
   "cell_type": "markdown",
   "id": "a9c622dc",
   "metadata": {},
   "source": [
    "#### Q6. Yes, we can create a nested dictionary in Python. Here's an example of a one-level nested dictionary:"
   ]
  },
  {
   "cell_type": "code",
   "execution_count": 26,
   "id": "9b3b4c0f",
   "metadata": {},
   "outputs": [
    {
     "name": "stdout",
     "output_type": "stream",
     "text": [
      "Employee name:  John Doe\n",
      "Employee email:  john.doe@example.com\n"
     ]
    }
   ],
   "source": [
    "employee = {\n",
    "    \"id\": 101,\n",
    "    \"name\": \"John Doe\",\n",
    "    \"contact\": {\n",
    "        \"email\": \"john.doe@example.com\",\n",
    "        \"phone\": \"123-456-7890\"\n",
    "    }\n",
    "}\n",
    "print(\"Employee name: \", employee[\"name\"])\n",
    "print(\"Employee email: \", employee[\"contact\"][\"email\"])"
   ]
  },
  {
   "cell_type": "markdown",
   "id": "4e0d4c7c",
   "metadata": {},
   "source": [
    "#### Q7. Using setdefault()\n"
   ]
  },
  {
   "cell_type": "code",
   "execution_count": 31,
   "id": "da4c2ec8",
   "metadata": {},
   "outputs": [
    {
     "name": "stdout",
     "output_type": "stream",
     "text": [
      "{'language': 'Python', 'course': 'Data Science Masters', 'topics': ['Python', 'Machine Learning', 'Deep Learning']}\n"
     ]
    }
   ],
   "source": [
    "dict1 = {'language' : 'Python', 'course': 'Data Science Masters'}\n",
    "dict1.setdefault('topics', ['Python', 'Machine Learning', 'Deep Learning'])\n",
    "print(dict1)"
   ]
  },
  {
   "cell_type": "markdown",
   "id": "0e824439",
   "metadata": {},
   "source": [
    "#### Q8. The three view objects in dictionaries are:\n",
    "\n",
    "1. dict.keys(): This view object returns a list-like object containing all the keys of the dictionary.\n",
    "\n",
    "2. dict.values(): This view object returns a list-like object containing all the values of the dictionary.\n",
    "\n",
    "3. dict.items(): This view object returns a list-like object containing all the key-value pairs of the dictionary as tuples."
   ]
  },
  {
   "cell_type": "code",
   "execution_count": 32,
   "id": "73f7cb9b",
   "metadata": {},
   "outputs": [
    {
     "data": {
      "text/plain": [
       "dict_keys(['Sport', 'Teams'])"
      ]
     },
     "execution_count": 32,
     "metadata": {},
     "output_type": "execute_result"
    }
   ],
   "source": [
    "## Using Keys\n",
    "\n",
    "dict1 = {'Sport': 'Cricket' , 'Teams': ['India', 'Australia', 'England', 'South Africa', 'Sri Lanka', 'New Zealand']}\n",
    "dict1.keys()"
   ]
  },
  {
   "cell_type": "code",
   "execution_count": 33,
   "id": "e41d027d",
   "metadata": {},
   "outputs": [
    {
     "data": {
      "text/plain": [
       "dict_values(['Cricket', ['India', 'Australia', 'England', 'South Africa', 'Sri Lanka', 'New Zealand']])"
      ]
     },
     "execution_count": 33,
     "metadata": {},
     "output_type": "execute_result"
    }
   ],
   "source": [
    "## Using Values\n",
    "\n",
    "dict1 = {'Sport': 'Cricket' , 'Teams': ['India', 'Australia', 'England', 'South Africa', 'Sri Lanka', 'New Zealand']}\n",
    "dict1.values()"
   ]
  },
  {
   "cell_type": "code",
   "execution_count": 34,
   "id": "7a5d9377",
   "metadata": {},
   "outputs": [
    {
     "data": {
      "text/plain": [
       "dict_items([('Sport', 'Cricket'), ('Teams', ['India', 'Australia', 'England', 'South Africa', 'Sri Lanka', 'New Zealand'])])"
      ]
     },
     "execution_count": 34,
     "metadata": {},
     "output_type": "execute_result"
    }
   ],
   "source": [
    "## Using Items\n",
    "\n",
    "dict1 = {'Sport': 'Cricket' , 'Teams': ['India', 'Australia', 'England', 'South Africa', 'Sri Lanka', 'New Zealand']}\n",
    "dict1.items()"
   ]
  },
  {
   "cell_type": "code",
   "execution_count": null,
   "id": "47ac311e",
   "metadata": {},
   "outputs": [],
   "source": []
  },
  {
   "cell_type": "code",
   "execution_count": null,
   "id": "7f51dfad",
   "metadata": {},
   "outputs": [],
   "source": []
  },
  {
   "cell_type": "code",
   "execution_count": null,
   "id": "04903938",
   "metadata": {},
   "outputs": [],
   "source": []
  }
 ],
 "metadata": {
  "kernelspec": {
   "display_name": "Python 3 (ipykernel)",
   "language": "python",
   "name": "python3"
  },
  "language_info": {
   "codemirror_mode": {
    "name": "ipython",
    "version": 3
   },
   "file_extension": ".py",
   "mimetype": "text/x-python",
   "name": "python",
   "nbconvert_exporter": "python",
   "pygments_lexer": "ipython3",
   "version": "3.9.12"
  }
 },
 "nbformat": 4,
 "nbformat_minor": 5
}
